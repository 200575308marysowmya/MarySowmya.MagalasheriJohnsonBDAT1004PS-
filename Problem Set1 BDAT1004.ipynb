{
 "cells": [
  {
   "cell_type": "markdown",
   "id": "866309b8",
   "metadata": {},
   "source": [
    "<h4>Question1:Data Types</h4>"
   ]
  },
  {
   "cell_type": "code",
   "execution_count": null,
   "id": "8158065e",
   "metadata": {},
   "outputs": [],
   "source": [
    "5 = Integer\n",
    "5.0 =Float\n",
    "5 > 1 = Boolean\n",
    "'5' = String\n",
    "5 * 2= Integer\n",
    "'5'  *  2 = String\n",
    "'5'  +  '2' = String\n",
    "5 / 2 = Float\n",
    "5 % 2 =Integer\n",
    "{5,  2,  1}= collection(Array of Integers)\n",
    "5 == 3 Boolean\n",
    "Pi  (the  number)= double"
   ]
  },
  {
   "cell_type": "markdown",
   "id": "4140916a",
   "metadata": {},
   "source": [
    " <h4>Question2:Write (and evaluate) C# expressions that answer these questions:</h4>\n",
    " "
   ]
  },
  {
   "cell_type": "code",
   "execution_count": null,
   "id": "4ff60d25",
   "metadata": {},
   "outputs": [],
   "source": [
    "String word = \"Supercalifragilisticexpialidocious\";\n",
    "int letterCount = word.Length;\n",
    "Console.WriteLine($\" 1) The number of letters in the word {word} is: {letterCount}\");\n",
    "\n",
    "\n",
    "\n",
    "Console.WriteLine(\"\\t\");\n",
    "\n",
    "string wordsuper = \"Supercalifragilisticexpialidocious\";\n",
    "string substringToCheck = \"ice\";\n",
    "\n",
    "bool iceword = wordsuper.Contains(substringToCheck);\n",
    "\n",
    "if (iceword)\n",
    "{\n",
    "    Console.WriteLine($\" 2) The substring ice is present in:{wordsuper}\");\n",
    "}\n",
    "else\n",
    "{\n",
    "    Console.WriteLine($\"The substring of string ice is present in:{wordsuper}\"); ;\n",
    "}\n",
    "\n",
    "Console.WriteLine(\"\\t\");\n",
    "Console.WriteLine($\" *************The longest word*****************\");\n",
    "String word1 = \"Supercalifragilisticexpialidocious\";\n",
    "String word2 = \"Honorificabilitudinitatibus\";\n",
    "String word3 = \"Bababadalgharaghtakamminarronnkonn\";\n",
    "\n",
    "if (word1.Length >= word2.Length && word1.Length >= word3.Length)\n",
    "{\n",
    "    Console.WriteLine($\" The longest word is {word1}\");\n",
    "}\n",
    "else if (word2.Length >= word1.Length && word2.Length >= word3.Length)\n",
    "{\n",
    "    Console.WriteLine($\" The longest word is {word2}\");\n",
    "}\n",
    "else\n",
    "{\n",
    "    Console.WriteLine($\" The longest word is {word3}\");\n",
    "}\n",
    "\n",
    "Console.WriteLine(\"\\t\");\n",
    "Console.WriteLine($\" *************The First name and Last name in Alphabetical order****************\");\n",
    "var  names = new List<string>();\n",
    "names.Add(\"Berlioz\");\n",
    "names.Add(\"Borodin\");\n",
    "names.Add(\"Brian\");\n",
    "names.Add(\"Bartok\");\n",
    "names.Add(\"Bellini\");\n",
    "names.Add(\"Buxtehude\");\n",
    "names.Add(\"Bernstein\");\n",
    "names.Sort();\n",
    "foreach (var s in names)\n",
    "Console.WriteLine(s);\n",
    "string firstName = names.First();\n",
    "Console.WriteLine($\" The first name in list is {firstName}\");\n",
    "\n",
    "string lastName = names.Last();\n",
    "Console.WriteLine($\" The last name in list is {lastName}\");\n",
    "Console.ReadLine();\n",
    "\n",
    "OutPut:\n",
    "    1) The number of letters in the word Supercalifragilisticexpialidocious is: 34\n",
    "\n",
    " 2) The substring ice is present in:Supercalifragilisticexpialidocious\n",
    "\n",
    " *************The longest word*****************\n",
    " The longest word is Supercalifragilisticexpialidocious\n",
    "\n",
    " *************The First name and Last name in Alphabetical order****************\n",
    "Bartok\n",
    "Bellini\n",
    "Berlioz\n",
    "Bernstein\n",
    "Borodin\n",
    "Brian\n",
    "Buxtehude\n",
    " The first name in list is Bartok\n",
    " The last name in list is Buxtehude\n"
   ]
  },
  {
   "cell_type": "markdown",
   "id": "1721b2eb",
   "metadata": {},
   "source": [
    "<h4>Question3:Implement function triangleArea(a,b,c) </h4>\n"
   ]
  },
  {
   "cell_type": "code",
   "execution_count": null,
   "id": "801b5c0a",
   "metadata": {},
   "outputs": [],
   "source": [
    "class triangle\n",
    "    {\n",
    "       static void Main()\n",
    "    {\n",
    "        double a = 0;\n",
    "        double b = 0;\n",
    "        double c = 0;\n",
    "        Console.WriteLine(\"enter the value for a\");\n",
    "        a = double.Parse(Console.ReadLine());\n",
    "        Console.WriteLine(\"enter the value for b\");\n",
    "        b = double.Parse(Console.ReadLine());\n",
    "        Console.WriteLine(\"enter the value for c\");\n",
    "        c = double.Parse(Console.ReadLine());\n",
    "\n",
    "\n",
    "        double area = TriangleArea(a, b, c);\n",
    "        Console.WriteLine(area);\n",
    "    }\n",
    "\n",
    "public static double TriangleArea(double a, double b, double c)\n",
    "{\n",
    "    double s = (a + b + c) / 2.0;\n",
    "    double area = Math.Sqrt(s * (s - a) * (s - b) * (s - c));\n",
    "    return area;\n",
    "}\n",
    "}\n",
    "\n",
    "Output:\n",
    "enter the value for a\n",
    "2\n",
    "enter the value for b\n",
    "3\n",
    "enter the value for c\n",
    "2\n",
    "1.984313483298443"
   ]
  },
  {
   "cell_type": "markdown",
   "id": "e8a0c7ca",
   "metadata": {},
   "source": [
    "<h4>Question4:Write a program in C# Sharp to separate odd and even integers in separate arrays. </h4>"
   ]
  },
  {
   "cell_type": "code",
   "execution_count": null,
   "id": "d2afd481",
   "metadata": {},
   "outputs": [],
   "source": [
    "public class Array\n",
    "{\n",
    "    public static void Main(String[] args)\n",
    "    {\n",
    "        int[] arr = new int[5];\n",
    "        int n;\n",
    "        Console.Write(\"Input the number of elements to be stored in the array :\");\n",
    "        n = Convert.ToInt32(Console.ReadLine());\n",
    "        Console.WriteLine(\"\\t\");\n",
    "        Console.Write(\"Input {0} elements in the array :\\n\", n);\n",
    "        for (int i = 0; i < n; i++)\n",
    "        {\n",
    "            Console.Write(\"element - {0} : \", i);\n",
    "            arr[i] = Convert.ToInt32(Console.ReadLine());\n",
    "        }\n",
    "        Console.WriteLine(\"\\t\");\n",
    "        Console.WriteLine($\"the even elements in the array are\");\n",
    "        for (int i = 0; i < arr.Length; i++)\n",
    "        {\n",
    "            if (arr[i] % 2 == 0)\n",
    "            {\n",
    "                Console.WriteLine(arr[i]);    \n",
    "            }\n",
    "        }\n",
    "        Console.WriteLine(\"\\t\");\n",
    "        Console.WriteLine($\"the odd elements in the array are\");\n",
    "        for (int i = 0; i < arr.Length; i++)\n",
    "        {\n",
    "            if (arr[i] % 2 != 0)\n",
    "            {\n",
    "                Console.WriteLine(arr[i]);\n",
    "            }\n",
    "        }\n",
    "        \n",
    "\n",
    "    }\n",
    "}\n",
    "Output:\n",
    "Input the number of elements to be stored in the array :5\n",
    "\n",
    "Input 5 elements in the array :\n",
    "element - 0 : 1\n",
    "element - 1 : 2\n",
    "element - 2 : 5\n",
    "element - 3 : 6\n",
    "element - 4 : 8\n",
    "\n",
    "the even elements in the array are\n",
    "2\n",
    "6\n",
    "8\n",
    "\n",
    "the odd elements in the array are\n",
    "1\n",
    "5\n"
   ]
  },
  {
   "cell_type": "markdown",
   "id": "dba93ba4",
   "metadata": {},
   "source": [
    "<h4>Question5:a.\tWrite a function inside(x,y,x1,y1,x2,y2) that returns True or False </h4>"
   ]
  },
  {
   "cell_type": "code",
   "execution_count": null,
   "id": "f75a3a5d",
   "metadata": {},
   "outputs": [],
   "source": [
    "class Rectangle\n",
    "{\n",
    "    static void Main()\n",
    "    {\n",
    "        \n",
    "        Console.WriteLine(Inside(1, 1, 0, 0, 2, 3));  \n",
    "        Console.WriteLine(Inside(-1, -1, 0, 0, 2, 3));\n",
    "        \n",
    "        bool inRectangle1 = Inside(1, 0, 0.3, 0.5, 1.1, 0.7);\n",
    "        bool inRectangle2 = Inside(1, 1, 0.5, 0.2, 1.1, 2);\n",
    "\n",
    "        if (inRectangle1 && inRectangle2)\n",
    "        {\n",
    "            Console.WriteLine(\"The point (1, 1) is inside both rectangles.\");\n",
    "        }\n",
    "        else\n",
    "        {\n",
    "            Console.WriteLine(\"The point (1, 1) is not inside both rectangles.\");\n",
    "        }\n",
    "    }\n",
    "\n",
    "    static bool Inside(double x, double y, double x1, double y1, double x2, double y2)\n",
    "    {\n",
    "        return x <= x1 && x <= x2 && y >= y1 && y <= y2;\n",
    "    }\n",
    "}"
   ]
  },
  {
   "cell_type": "markdown",
   "id": "b68c9f19",
   "metadata": {},
   "source": [
    "<h4>Question6:You can turn a word into pig-Latin using the following two rules (simplified):</h4>\n"
   ]
  },
  {
   "cell_type": "code",
   "execution_count": 2,
   "id": "fb5d2cb8",
   "metadata": {},
   "outputs": [
    {
     "name": "stdout",
     "output_type": "stream",
     "text": [
      "appyHay\n",
      "otherway\n",
      "enterway\n"
     ]
    }
   ],
   "source": [
    "def piglatin(word):\n",
    "    vowels='aeiou'\n",
    "    if word[0] in vowels:\n",
    "        return word + 'way'\n",
    "    else:\n",
    "        return word[1:] + word[0] + 'ay'\n",
    "word1 = 'Happy'\n",
    "word2 = 'other'\n",
    "word3 = 'enter'\n",
    "print(piglatin(word1))\n",
    "print(piglatin(word2))\n",
    "print(piglatin(word3))\n",
    "\n"
   ]
  },
  {
   "cell_type": "markdown",
   "id": "2d2477c9",
   "metadata": {},
   "source": [
    "<h4> Question7:File bloodtype1.txt records blood-types of patients (A, B, AB, O or OO) at a clinic</h4>"
   ]
  },
  {
   "cell_type": "code",
   "execution_count": 3,
   "id": "1947cdae",
   "metadata": {},
   "outputs": [
    {
     "name": "stdout",
     "output_type": "stream",
     "text": [
      "There are 15 patients of bloodtype A.\n",
      "There is one patient of bloodtype B.\n",
      "There are 13 patients of bloodtype AB.\n",
      "There are 15 patients of bloodtype O.\n",
      "There are no patients of bloodtype OO.\n"
     ]
    }
   ],
   "source": [
    "def bldcount(bloodtype2): \n",
    "    infile = open(bloodtype2, 'r') \n",
    "    content = infile.read()\n",
    "    infile.close() \n",
    "    content = content.split() \n",
    "    bloodtype = ['A','B','AB','O','OO'] \n",
    "    for i in bloodtype:\n",
    "        if content.count(i) == 0: \n",
    "            print('There are no patients of bloodtype',i+'.') \n",
    "        elif content.count(i) == 1: \n",
    "            print('There is one patient of bloodtype',i+'.') \n",
    "        else: \n",
    "            print('There are',content.count(i),'patients of bloodtype', i+'.') \n",
    "bldcount('bloodtype2.txt')"
   ]
  },
  {
   "cell_type": "markdown",
   "id": "25a54f3e",
   "metadata": {},
   "source": [
    "<h4>Question8:Write a function curconv() that takes as input:</h4>"
   ]
  },
  {
   "cell_type": "code",
   "execution_count": 4,
   "id": "2aca1e07",
   "metadata": {},
   "outputs": [
    {
     "name": "stdout",
     "output_type": "stream",
     "text": [
      "122.96544\n",
      "1.241401\n"
     ]
    }
   ],
   "source": [
    "def curconv(currency, amount):\n",
    "    conversion_rates = {line.split()[0]: float(line.split()[1]) for line in open('currencies.txt')}\n",
    "    usd_amount = amount * conversion_rates.get(currency, 0)\n",
    "    return usd_amount\n",
    "usd_amount_eur = curconv('EUR', 100)\n",
    "usd_amount_jpy = curconv('JPY', 100)\n",
    "\n",
    "print(usd_amount_eur)  \n",
    "print(usd_amount_jpy)\n"
   ]
  },
  {
   "cell_type": "markdown",
   "id": "c9ca8343",
   "metadata": {},
   "source": [
    "<h4>Question9:Each of the following will cause an exception (an error). Identify what type of exception each will cause.</h4>"
   ]
  },
  {
   "cell_type": "code",
   "execution_count": null,
   "id": "ff049a9f",
   "metadata": {},
   "outputs": [],
   "source": [
    "Trying to add incompatible variables, as in adding 6 + ‘a’ - TypeError\n",
    "try: \n",
    "    add = 6 + 'a'\n",
    "except ValueError:\n",
    "    print(\"Exception Handling\")\n",
    "    \n",
    "Referring to the 12th item of a list that has only 10 items - IndexError\n",
    " my_list = [1, 2, 3, 4, 5, 6, 7, 8, 9, 10]\n",
    "    item = my_list[11]\n",
    "except ValueError:\n",
    "    print(\" Types of Exception Handling\")\n",
    "    \n",
    "Using a value that is out of range for a function’s input, such as calling math.sqrt(-1.0) - ValueError\n",
    "math.sqrt(-1.0)\n",
    "\n",
    "Using an undeclared variable, such as print(x) when x has not been defined - NameError\n",
    "try:  \n",
    "    a = 10\n",
    "    b = 20\n",
    "    result =  a + b\n",
    "    print(x)\n",
    "except ValueError:\n",
    "    print(\" Types of Exception Handling\")\n",
    "    \n",
    "Trying to open a file that does not exist, such as mistyping the file name or looking in the wrong directory- FileNotFoundError\n",
    "try:  \n",
    "    f = open(\"python.txt\")\n",
    "    f.close()\n",
    "except ValueError:\n",
    "    print(\" Types of Exception Handling\")"
   ]
  },
  {
   "cell_type": "markdown",
   "id": "797cd903",
   "metadata": {},
   "source": [
    "<h4>Question10:Write a function called frequencies()</h4>"
   ]
  },
  {
   "cell_type": "code",
   "execution_count": 7,
   "id": "c2d02ee3",
   "metadata": {},
   "outputs": [
    {
     "name": "stdout",
     "output_type": "stream",
     "text": [
      "[1, 1, 1, 3, 5, 1, 1, 2, 1, 0, 1, 0, 1, 2, 4, 0, 1, 2, 0, 2, 1, 0, 1, 1, 0, 0]\n",
      "[0, 1, 0, 0, 2, 0, 0, 1, 1, 0, 1, 1, 0, 0, 0, 0, 0, 0, 2, 0, 1, 0, 0, 0, 1, 0]\n"
     ]
    }
   ],
   "source": [
    "def frequencies(text):\n",
    "    count = [text.count(letter) for letter in 'abcdefghijklmnopqrstuvwxyz']\n",
    "    return count\n",
    "result = frequencies('The quick red fox got bored and went home.')\n",
    "print(result)  \n",
    "\n",
    "result = frequencies('The sky is blue')\n",
    "print(result)  "
   ]
  },
  {
   "cell_type": "code",
   "execution_count": null,
   "id": "4bd8d2ab",
   "metadata": {},
   "outputs": [],
   "source": []
  }
 ],
 "metadata": {
  "kernelspec": {
   "display_name": "Python 3 (ipykernel)",
   "language": "python",
   "name": "python3"
  },
  "language_info": {
   "codemirror_mode": {
    "name": "ipython",
    "version": 3
   },
   "file_extension": ".py",
   "mimetype": "text/x-python",
   "name": "python",
   "nbconvert_exporter": "python",
   "pygments_lexer": "ipython3",
   "version": "3.11.4"
  }
 },
 "nbformat": 4,
 "nbformat_minor": 5
}
